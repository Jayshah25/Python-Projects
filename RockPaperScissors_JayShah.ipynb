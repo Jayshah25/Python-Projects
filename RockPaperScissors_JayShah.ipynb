{
  "nbformat": 4,
  "nbformat_minor": 0,
  "metadata": {
    "colab": {
      "name": "RockPaperScissors_JayShah",
      "provenance": []
    },
    "kernelspec": {
      "name": "python3",
      "display_name": "Python 3"
    },
    "language_info": {
      "name": "python"
    }
  },
  "cells": [
    {
      "cell_type": "code",
      "metadata": {
        "id": "c9iJIHd3tuWz"
      },
      "source": [
        "# import \n",
        "import random"
      ],
      "execution_count": null,
      "outputs": []
    },
    {
      "cell_type": "code",
      "metadata": {
        "id": "HaVkX7uOuD3Q"
      },
      "source": [
        "def move():\n",
        "  \"\"\"\n",
        "  The function returns a random value in the range [0,2]\n",
        "  0 indicates Rock, 1 indicates Paper, 2 indicates scissors.\n",
        "  Parameters: None\n",
        "  Returns:\n",
        "  returns a random int value in the range [0,2]\n",
        "  \"\"\"\n",
        "  choice = random.randint(0,2) \n",
        "  return choice"
      ],
      "execution_count": null,
      "outputs": []
    },
    {
      "cell_type": "code",
      "metadata": {
        "id": "A23wX54WuTcD"
      },
      "source": [
        "def validate(user_move,comp_move):\n",
        "  \"\"\"\n",
        "  0 indicates Rock, 1 indicates Paper, 2 indicates scissors.\n",
        "  The function validates the winner between user and computer.\n",
        "\n",
        "  Parameter:\n",
        "  user_move (int) : The int value selected by the user\n",
        "  comp_move (int) : The int value selected by the system\n",
        "  \n",
        "  Returns:\n",
        "  returns 0 if computer wins\n",
        "  returns 1 if user wins\n",
        "  retuns None if it's a draw\n",
        "  returns -1 in the case of an invalid move\n",
        "  \"\"\"\n",
        "  # checks if the moves are same\n",
        "  if user_move==comp_move:\n",
        "    print(\"The moves are same, it's a draw\")\n",
        "    return None\n",
        "  # Checks if the computer has won\n",
        "  elif (user_move==0 and comp_move==1) or (user_move==1 and comp_move==2) or (user_move==2 and comp_move==0):\n",
        "    print(\"Computer's Move:\",comp_move)\n",
        "    print(\"The Computer wins!\")\n",
        "    return 0\n",
        "  # Checks if the user has won\n",
        "  elif (comp_move==0 and user_move==1) or (comp_move==1 and user_move==2) or (comp_move==2 and user_move==0):\n",
        "    print(\"Computer's Move:\",comp_move)\n",
        "    print(\"Congratulations! You win!\")\n",
        "    return 1\n",
        "  # Checks for a possible invalid move\n",
        "  else:\n",
        "    print(\"Invalid Move!\")\n",
        "    return -1"
      ],
      "execution_count": null,
      "outputs": []
    },
    {
      "cell_type": "code",
      "metadata": {
        "id": "VdIWNlIWDHNg"
      },
      "source": [
        "def result(flag,user_score,comp_score):\n",
        "  \"\"\"\n",
        "  0 indicates Rock, 1 indicates Paper, 2 indicates scissors.\n",
        "  The function updates the score of the user and computer.\n",
        "\n",
        "  Parameter:\n",
        "  user_score (int) : The int value indicating score of the user\n",
        "  comp_score (int) : The int value indicating score of the computer\n",
        "  \n",
        "  Returns:\n",
        "  returns score_board (list) : List of updated user_score and comp_score\n",
        "  \"\"\"\n",
        "  \n",
        "  score_board = [user_score,comp_score]\n",
        "  # Checks the case of a draw\n",
        "  if flag==None:\n",
        "    return score_board\n",
        "  # If the user has won, increments the user score by 1\n",
        "  elif flag:\n",
        "    score_board[0]+=1\n",
        "    return score_board\n",
        "  # If the computer has won, increments the computer score by 1\n",
        "  elif not flag:\n",
        "    score_board[1]+=1\n",
        "    return score_board\n"
      ],
      "execution_count": null,
      "outputs": []
    },
    {
      "cell_type": "code",
      "metadata": {
        "id": "vBLMWoo3ImuB"
      },
      "source": [
        "def score_keeper(user_score, comp_score):\n",
        "  \"\"\"\n",
        "  0 indicates Rock, 1 indicates Paper, 2 indicates scissors.\n",
        "  The function checks if any of the player gets to a total of 3 points. \n",
        "  If so, the winner is declared and the game ends.\n",
        "\n",
        "  Parameter:\n",
        "  user_score (int) : The int value indicating score of the user\n",
        "  comp_score (int) : The int value indicating score of the computer\n",
        "  \n",
        "  Returns:\n",
        "  returns 0 if any of the player wins, else 1\n",
        "  \"\"\"\n",
        "  if user_score==3:\n",
        "    print(\"The User wins the Game!!\")\n",
        "    return 0\n",
        "  elif comp_score==3:\n",
        "    print(\"The Computer wins the Game!!\")\n",
        "    return 0  \n",
        "  else:\n",
        "    return 1  \n"
      ],
      "execution_count": null,
      "outputs": []
    },
    {
      "cell_type": "code",
      "metadata": {
        "colab": {
          "base_uri": "https://localhost:8080/"
        },
        "id": "hp14Fwv0Cy_d",
        "outputId": "c5b6d496-c4e6-4d0c-a860-ad40d8d827a5"
      },
      "source": [
        "# initialize set computer score and user score to zero\n",
        "comp_score=0\n",
        "user_score=0\n",
        "flag = 1\n",
        "while flag:\n",
        "  # get the user input\n",
        "  user_move = int(input(\"Make your move!\\n\"))\n",
        "  # allow the computer to make a move\n",
        "  comp_move = move()\n",
        "  # validate the user and computer move\n",
        "  val_result = validate(user_move,comp_move)\n",
        "  # handles the case of an invalid move\n",
        "  if val_result==-1:\n",
        "    val_result = None\n",
        "  # get the result, after updating the scores\n",
        "  user_score, comp_score = result(val_result,user_score,comp_score)\n",
        "  # check if any of the player has won\n",
        "  flag = score_keeper(user_score,comp_score)\n"
      ],
      "execution_count": null,
      "outputs": [
        {
          "output_type": "stream",
          "text": [
            "Make your move!\n",
            "1\n",
            "Computer's Move: 0\n",
            "Congratulations! You win!\n",
            "Make your move!\n",
            "2\n",
            "Computer's Move: 1\n",
            "Congratulations! You win!\n",
            "Make your move!\n",
            "0\n",
            "Computer's Move: 1\n",
            "The Computer wins!\n",
            "Make your move!\n",
            "0\n",
            "Computer's Move: 2\n",
            "Congratulations! You win!\n",
            "The User wins the Game!!\n"
          ],
          "name": "stdout"
        }
      ]
    }
  ]
}