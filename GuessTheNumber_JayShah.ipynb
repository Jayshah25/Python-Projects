{
  "nbformat": 4,
  "nbformat_minor": 0,
  "metadata": {
    "colab": {
      "name": "GuessTheNumber_JayShah",
      "provenance": []
    },
    "kernelspec": {
      "name": "python3",
      "display_name": "Python 3"
    },
    "language_info": {
      "name": "python"
    }
  },
  "cells": [
    {
      "cell_type": "code",
      "metadata": {
        "id": "52U0t72sjUv4"
      },
      "source": [
        "#imports \n",
        "import random"
      ],
      "execution_count": 1,
      "outputs": []
    },
    {
      "cell_type": "code",
      "metadata": {
        "colab": {
          "base_uri": "https://localhost:8080/"
        },
        "id": "EAsr2x51j3UP",
        "outputId": "71253fbe-97e8-4010-8caf-a22985bdaf7a"
      },
      "source": [
        "# get the user input\n",
        "lower_limit = int(input(\"Enter the lower limit of the range!\\n\"))\n",
        "upper_limit = int(input(\"Enter the upper limit of the range!\\n\"))"
      ],
      "execution_count": 2,
      "outputs": [
        {
          "output_type": "stream",
          "text": [
            "Enter the lower limit of the range!\n",
            "0\n",
            "Enter the upper limit of the range!\n",
            "100\n"
          ],
          "name": "stdout"
        }
      ]
    },
    {
      "cell_type": "code",
      "metadata": {
        "id": "VdYAzatBj9oa"
      },
      "source": [
        "# set the target\n",
        "target = random.randint(lower_limit,upper_limit)"
      ],
      "execution_count": 3,
      "outputs": []
    },
    {
      "cell_type": "code",
      "metadata": {
        "id": "QAIMt2P5kTpu"
      },
      "source": [
        "def validate(guess,target,lower_limit,upper_limit):\n",
        "  \"\"\"\n",
        "  The function validates if the guessed value is correct or not!\n",
        "\n",
        "  Parameters:\n",
        "  guess(int) : integer value guessed by the user\n",
        "  target(int) : random integer value selected by the system\n",
        "  lower_limit (int) : Lower Limit of the user specified range\n",
        "  upper_limit (int) : Upper Limit of the user specified range\n",
        "\n",
        "  Returns: \n",
        "  returns 1 if guess is not equal to target\n",
        "  returns 0 if guess is equal to target\n",
        "  returns None in case of some invalid arguments\n",
        "  \"\"\"\n",
        "  if guess < lower_limit or guess > upper_limit:\n",
        "    print(\"Your value is outside the specified range\")\n",
        "    return None\n",
        "  elif guess < target:\n",
        "    print(\"Try again! You guessed too small!\")\n",
        "    return 1\n",
        "  elif guess > target:\n",
        "    print(\"Try again! You guessed too high\")\n",
        "    return 1\n",
        "  elif guess==target:\n",
        "    print(\"That's the correct answer!\")\n",
        "    return 0\n",
        "  else:\n",
        "    print(\"Something went wrong!\")\n",
        "    return None"
      ],
      "execution_count": 4,
      "outputs": []
    },
    {
      "cell_type": "markdown",
      "metadata": {
        "id": "knCMYHZxpbGg"
      },
      "source": [
        "Initially, we set **flag=1** and **total_guesses=0**. So, the **while loop** in the following code will run until the value of the variable flag is 1. Note that the **function validate** returns 1 if the guess is incorrect and 0, if it's correct. So, when the guess is accurate, the value of **flag** is changed to 0 and the **while loop** breaks. Also, we use the same variable flag to update the value of the variable **total_guesses**. As the while loop breaks, we increment the value of **total_guesses** by one to count the guess that was the correct answer or an invalid value. If we receive an invalid value, the loop breaks."
      ]
    },
    {
      "cell_type": "code",
      "metadata": {
        "colab": {
          "base_uri": "https://localhost:8080/"
        },
        "id": "BLZhAmpfobn-",
        "outputId": "61458282-6601-496b-fa6a-b73799f718f7"
      },
      "source": [
        "# set the value for flag and total_guesses(counter) variables\n",
        "flag = 1\n",
        "total_guesses = 0\n",
        "# Let's play!\n",
        "while flag:\n",
        "  guess = int(input(\"Make a Guess\\n\"))\n",
        "  flag = validate(guess,target,lower_limit,upper_limit)\n",
        "  # the loop breaks if we get invalid argument.\n",
        "  if flag==None:\n",
        "    break\n",
        "  total_guesses+=flag\n",
        "# increment by 1 to count the \"correct answer\" guess or \"invalid guess\"\n",
        "total_guesses+=1\n",
        "print(\"You made a total of {} guesses\".format(total_guesses))"
      ],
      "execution_count": 5,
      "outputs": [
        {
          "output_type": "stream",
          "text": [
            "Make a Guess\n",
            "50\n",
            "Try again! You guessed too small!\n",
            "Make a Guess\n",
            "75\n",
            "Try again! You guessed too high\n",
            "Make a Guess\n",
            "63\n",
            "Try again! You guessed too high\n",
            "Make a Guess\n",
            "57\n",
            "Try again! You guessed too high\n",
            "Make a Guess\n",
            "53\n",
            "Try again! You guessed too small!\n",
            "Make a Guess\n",
            "55\n",
            "Try again! You guessed too high\n",
            "Make a Guess\n",
            "54\n",
            "That's the correct answer!\n",
            "You made a total of 7 guesses\n"
          ],
          "name": "stdout"
        }
      ]
    }
  ]
}