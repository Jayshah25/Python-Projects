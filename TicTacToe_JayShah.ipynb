{
  "nbformat": 4,
  "nbformat_minor": 0,
  "metadata": {
    "colab": {
      "name": "TicTacToe_JayShah",
      "provenance": []
    },
    "kernelspec": {
      "name": "python3",
      "display_name": "Python 3"
    },
    "language_info": {
      "name": "python"
    }
  },
  "cells": [
    {
      "cell_type": "code",
      "metadata": {
        "id": "j2SjobhEk1xz"
      },
      "source": [
        "# imports\n",
        "from tabulate import tabulate\n",
        "import numpy as np\n",
        "import random\n",
        "import math"
      ],
      "execution_count": 1,
      "outputs": []
    },
    {
      "cell_type": "code",
      "metadata": {
        "id": "6kcvD9PxlOcO"
      },
      "source": [
        "def display(arr):\n",
        "  \"\"\"\n",
        "  Displays the array in a tabulated format\n",
        "  Parameters:\n",
        "  arr (numpy array) : The array that serves as the board\n",
        "  Retruns:\n",
        "  None\n",
        "  \"\"\"\n",
        "  print(tabulate(arr,tablefmt='fancy_grid'))"
      ],
      "execution_count": 2,
      "outputs": []
    },
    {
      "cell_type": "code",
      "metadata": {
        "colab": {
          "base_uri": "https://localhost:8080/"
        },
        "id": "m0Ii_rGAqvOE",
        "outputId": "9a2e0622-fb4c-432c-8195-685b85052dff"
      },
      "source": [
        "# Numbering of pieces in the board\n",
        "display(np.linspace(1,9,9).reshape(3,3))"
      ],
      "execution_count": 3,
      "outputs": [
        {
          "output_type": "stream",
          "text": [
            "╒═══╤═══╤═══╕\n",
            "│ 1 │ 2 │ 3 │\n",
            "├───┼───┼───┤\n",
            "│ 4 │ 5 │ 6 │\n",
            "├───┼───┼───┤\n",
            "│ 7 │ 8 │ 9 │\n",
            "╘═══╧═══╧═══╛\n"
          ],
          "name": "stdout"
        }
      ]
    },
    {
      "cell_type": "markdown",
      "metadata": {
        "id": "bBpVA5RgqrvR"
      },
      "source": [
        "The table above displays the board of the game with each square and it's unique value. The user and the computer can select any unoccupied square by choosing the corresponding numerical value displayed above. Initially, all the values in the board are set to zero. The value of the square selected by the user is changed to 1 and, the one selected by the computer is changed to -1.   "
      ]
    },
    {
      "cell_type": "code",
      "metadata": {
        "id": "OSULaNhrl2AR"
      },
      "source": [
        "def make_move(num,arr):\n",
        "  \"\"\"\n",
        "  The function checks if the user move is correct. \n",
        "  If the move is valid, the board is updated\n",
        "  Parameters: \n",
        "  num (int) : Integer value denoting a specific square in the board\n",
        "  arr (numpy array) : The array that serves as the board\n",
        "  Returns:\n",
        "  arr (numpy array) : The updated array is returned\n",
        "  \"\"\"\n",
        "  # check if the selected value is in the correct range\n",
        "  if num < 1 or num > 9:\n",
        "    print(\"The number is outside the range [1,9]!\")\n",
        "    return arr\n",
        "  col = (num-1)%3                     # get the correct column value\n",
        "  row = math.floor((num-1)/3)         # get the correct row value\n",
        "\n",
        "  # Check if the square is unoccupied\n",
        "  if arr[row,col]!=0:\n",
        "    print(\"The square is already occupied!\")\n",
        "    return arr\n",
        "  else:\n",
        "    arr[row,col] = 1                   #update the value\n",
        "    return arr"
      ],
      "execution_count": 4,
      "outputs": []
    },
    {
      "cell_type": "code",
      "metadata": {
        "id": "faISAoz_m1w8"
      },
      "source": [
        "def comp_turn(arr):\n",
        "  \"\"\"\n",
        "  The method makes the move by the computer by selecting a random value in the \n",
        "  range [1,9] and updating the board correctly.\n",
        "  Parameters:\n",
        "  arr (numpy array) : The array that serves as the board\n",
        "  Returns:\n",
        "  num (int) : Integer value selected by computer that denots a specific square\n",
        "                      in the board\n",
        "  arr (numpy array) : The updated array that serves as the board\n",
        "  \"\"\"\n",
        "  while True:\n",
        "    num = random.randint(1,9)     # select a random integer \n",
        "    col = (num-1)%3               # get the correct column value\n",
        "    row = math.floor((num-1)/3)   # get the correct row value\n",
        "    \n",
        "    # Check if the square is unoccupied\n",
        "    if arr[row,col]==0:\n",
        "      arr[row,col]=-1             #update the value\n",
        "      break\n",
        "  return num, arr"
      ],
      "execution_count": 5,
      "outputs": []
    },
    {
      "cell_type": "code",
      "metadata": {
        "id": "cWOXzrs5A6IZ"
      },
      "source": [
        "def score_keeper(arr):\n",
        "  \"\"\"\n",
        "  The Method checks if the game is finished!\n",
        "  Parameters:\n",
        "  arr (numpy array) : The array that serves as the board\n",
        "  Returns:\n",
        "  returns 0 if any of the winning condition is satisfied by any of the player\n",
        "  else returns 1\n",
        "  \"\"\"\n",
        "  \n",
        "  # define a boolean variable\n",
        "  flag = True\n",
        "\n",
        "  # Checks for the principal diagonal condition w.r.t. user\n",
        "  if arr[0,0]==1 and arr[1,1]==1 and arr[2,2]==1:\n",
        "    print(\"User wins the game!\")\n",
        "    flag = False\n",
        "\n",
        "  # Checks for the principal diagonal condition w.r.t. computer\n",
        "  elif arr[0,0]==-1 and arr[1,1]==-1 and arr[2,2]==-1:\n",
        "    print(\"Computer wins the game!\")\n",
        "    flag = False\n",
        "\n",
        "  # Checks for the second diagonal condition w.r.t. user\n",
        "  elif arr[0,2]==1 and arr[1,1]==1 and arr[2,0]==1:\n",
        "    print(\"The User wins!\")\n",
        "    flag = False\n",
        "\n",
        "  # Checks for the second diagonal condition w.r.t. computer\n",
        "  elif arr[0,2]==-1 and arr[1,1]==-1 and arr[2,0]==-1:\n",
        "    print(\"Computer wins the game!\")\n",
        "    flag = False\n",
        "\n",
        "  # Check if it's a draw\n",
        "  elif 0 not in arr:\n",
        "    print(\"It's a draw!\")\n",
        "    flag = False\n",
        "\n",
        "  if not flag:\n",
        "    return 0\n",
        "\n",
        "  # we execute the below for loops iff any of the above conditions are not \n",
        "  # satisfied\n",
        "  if flag:\n",
        "    \n",
        "    # Checks if any of the row conquered by user\n",
        "    for index in [0,1,2]:\n",
        "      if (list(arr[index])==[1,1,1]):\n",
        "        print(\"User wins the game!\")\n",
        "        return 0\n",
        "        \n",
        "    # Checks if any of the row conquered by computer\n",
        "    for index in [0,1,2]:\n",
        "      if (list(arr[index])==[-1,-1,-1]):\n",
        "        print(\"Computer wins the game!\")\n",
        "        return 0\n",
        "\n",
        "    # Checks if any of the column conquered by user\n",
        "    for index in [0,1,2]:\n",
        "      if (list(arr[:,index])==[1,1,1]):\n",
        "        print(\"User wins the game!\")\n",
        "        return 0\n",
        "\n",
        "    # Checks if any of the column conquered by computer\n",
        "    for index in [0,1,2]:\n",
        "      if (list(arr[:,index])==[-1,-1,-1]):\n",
        "        print(\"Computer wins the game!\")\n",
        "        return 0\n",
        "  # if none of the conditions are satisfied, 1 is returned.\n",
        "  return 1"
      ],
      "execution_count": 6,
      "outputs": []
    },
    {
      "cell_type": "code",
      "metadata": {
        "colab": {
          "base_uri": "https://localhost:8080/"
        },
        "id": "W9ltkVK7Iw5c",
        "outputId": "1ce9f392-c1e1-45c7-9f17-0b08a499565b"
      },
      "source": [
        "# initalize flag and board \n",
        "flag = 1\n",
        "board = np.zeros((3,3)) # initially, all the values are set to 0 in the board\n",
        "while flag:\n",
        "  # Take the user input\n",
        "  user_move = int(input(\"\\nPlease make a move!\\n\"))\n",
        "  # Update the board w.r.t. user input\n",
        "  board = make_move(user_move,board)\n",
        "  # check if the user has won\n",
        "  flag = score_keeper(board)\n",
        "  # if the user has won, display board and break the loop\n",
        "  if not flag:\n",
        "    display(board)\n",
        "    print(\"Your move: \",user_move)\n",
        "    break\n",
        "  # if the user has not won, allow the computer to make it's move\n",
        "  comp_move, board = comp_turn(board)\n",
        "  # check if computer has won\n",
        "  flag = score_keeper(board)\n",
        "  # diaplay the board\n",
        "  display(board)\n",
        "  print(\"Your move: \",user_move)\n",
        "  print(\"Computer's move: \",comp_move)\n",
        "  # if the computer has won, break the loop\n",
        "  if not flag:\n",
        "    break\n",
        "  "
      ],
      "execution_count": 7,
      "outputs": [
        {
          "output_type": "stream",
          "text": [
            "\n",
            "Please make a move!\n",
            "5\n",
            "╒═══╤═══╤════╕\n",
            "│ 0 │ 0 │  0 │\n",
            "├───┼───┼────┤\n",
            "│ 0 │ 1 │  0 │\n",
            "├───┼───┼────┤\n",
            "│ 0 │ 0 │ -1 │\n",
            "╘═══╧═══╧════╛\n",
            "Your move:  5\n",
            "Computer's move:  9\n",
            "\n",
            "Please make a move!\n",
            "2\n",
            "╒════╤═══╤════╕\n",
            "│ -1 │ 1 │  0 │\n",
            "├────┼───┼────┤\n",
            "│  0 │ 1 │  0 │\n",
            "├────┼───┼────┤\n",
            "│  0 │ 0 │ -1 │\n",
            "╘════╧═══╧════╛\n",
            "Your move:  2\n",
            "Computer's move:  1\n",
            "\n",
            "Please make a move!\n",
            "8\n",
            "User wins the game!\n",
            "╒════╤═══╤════╕\n",
            "│ -1 │ 1 │  0 │\n",
            "├────┼───┼────┤\n",
            "│  0 │ 1 │  0 │\n",
            "├────┼───┼────┤\n",
            "│  0 │ 1 │ -1 │\n",
            "╘════╧═══╧════╛\n",
            "Your move:  8\n"
          ],
          "name": "stdout"
        }
      ]
    }
  ]
}
